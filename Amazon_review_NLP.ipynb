{
 "cells": [
  {
   "cell_type": "code",
   "execution_count": 2,
   "metadata": {},
   "outputs": [],
   "source": [
    "import os         # importing all requried liberaries\n",
    "import math\n",
    "import random\n",
    "import numpy as np\n",
    "import pandas as pd\n",
    "import matplotlib.pyplot as plt\n",
    "%matplotlib inline\n",
    "import seaborn as sns\n",
    "import re\n",
    "import string\n",
    "import pickle\n",
    "import datetime\n",
    "from nltk.corpus import stopwords\n",
    "from sklearn.utils import shuffle\n",
    "from nltk.tokenize import RegexpTokenizer\n",
    "from nltk.stem.porter import PorterStemmer\n",
    "from sklearn.feature_extraction.text import CountVectorizer\n",
    "from sklearn.model_selection import train_test_split\n",
    "from tensorflow.keras.layers import Dense,Dropout\n",
    "from tensorflow.keras.models import Sequential\n",
    "import tensorflow as tf\n",
    "from sklearn.metrics import confusion_matrix\n",
    "from sklearn.metrics import roc_curve\n",
    "from sklearn.metrics import auc"
   ]
  },
  {
   "cell_type": "code",
   "execution_count": null,
   "metadata": {},
   "outputs": [],
   "source": [
    "dirac = r'D:\\ML\\Analysis of Amazon Cell Phone Reviews\\data'   # my local directory where data is stored"
   ]
  },
  {
   "cell_type": "code",
   "execution_count": null,
   "metadata": {},
   "outputs": [],
   "source": [
    "files = os.listdir(dirac)    #listing all files in dirac path \n",
    "files"
   ]
  },
  {
   "cell_type": "code",
   "execution_count": null,
   "metadata": {},
   "outputs": [],
   "source": [
    "for file in files:             # joining file name from files list to the path in dirac\n",
    "    path = os.path.join(dirac,file)\n",
    "    print(path)"
   ]
  },
  {
   "cell_type": "code",
   "execution_count": null,
   "metadata": {},
   "outputs": [],
   "source": [
    "items = pd.read_csv(r'D:\\ML\\Analysis of Amazon Cell Phone Reviews\\data\\20191226-items.csv') "
   ]
  },
  {
   "cell_type": "code",
   "execution_count": null,
   "metadata": {},
   "outputs": [],
   "source": [
    "reviews = pd.read_csv(r'D:\\ML\\Analysis of Amazon Cell Phone Reviews\\data\\20191226-reviews.csv')"
   ]
  },
  {
   "cell_type": "code",
   "execution_count": null,
   "metadata": {},
   "outputs": [],
   "source": [
    "items.head(10)"
   ]
  },
  {
   "cell_type": "code",
   "execution_count": null,
   "metadata": {},
   "outputs": [],
   "source": [
    "reviews.head()"
   ]
  },
  {
   "cell_type": "code",
   "execution_count": null,
   "metadata": {},
   "outputs": [],
   "source": [
    "final_data = pd.merge(reviews, items, how=\"left\", left_on=\"asin\", right_on=\"asin\") \n",
    "date = pd.to_datetime(final_data['date']) # converting date time to pandas datetime type\n",
    "final_data.date = date\n",
    "\"\"\"merging both data along asin column\n",
    "   doing lest join insted of right because i want every row in reviews to be present in final data\n",
    "   i case of right join if there is areview missing for a asin it will be replaced by NAN\n",
    "   this data is only for visualisation \n",
    "\"\"\""
   ]
  },
  {
   "cell_type": "code",
   "execution_count": null,
   "metadata": {},
   "outputs": [],
   "source": [
    "reviews['sentiment'] = reviews.rating.apply(lambda x : 1 if x>=3 else 0) # lets create a sentiment column wit an asumption that rating greater than 3 is a positive sentiment \n",
    "reviews['review'] = reviews.title+reviews.body # adding both title and review columns"
   ]
  },
  {
   "cell_type": "code",
   "execution_count": null,
   "metadata": {},
   "outputs": [],
   "source": [
    "data = reviews[['review','sentiment']] #this is our final data with all columns we need"
   ]
  },
  {
   "cell_type": "code",
   "execution_count": null,
   "metadata": {},
   "outputs": [],
   "source": [
    "data.isna().sum()"
   ]
  },
  {
   "cell_type": "code",
   "execution_count": null,
   "metadata": {},
   "outputs": [],
   "source": [
    "data = data.dropna()"
   ]
  },
  {
   "cell_type": "code",
   "execution_count": null,
   "metadata": {},
   "outputs": [],
   "source": [
    "data.isna().sum()"
   ]
  },
  {
   "cell_type": "code",
   "execution_count": null,
   "metadata": {},
   "outputs": [],
   "source": [
    "data.review.shape"
   ]
  },
  {
   "cell_type": "markdown",
   "metadata": {},
   "source": [
    "#  Data Visualisation"
   ]
  },
  {
   "cell_type": "markdown",
   "metadata": {},
   "source": [
    "## Pie chart to see brand distribution along our dataset"
   ]
  },
  {
   "cell_type": "code",
   "execution_count": null,
   "metadata": {},
   "outputs": [],
   "source": [
    "brand_size = items.groupby('brand').count()['asin']\n",
    "labels = list(brand_size.index)\n",
    "plt.figure(figsize=(15,10))\n",
    "plt.rcParams['text.color'] = 'w'\n",
    "plt.rcParams['lines.linewidth'] = 2\n",
    "plt.rcParams['font.size']  = 20\n",
    "plt.title('Total number of products per brands')\n",
    "plt.pie(brand_size,labels=labels,autopct='%1.1f%%')\n",
    "plt.show()"
   ]
  },
  {
   "cell_type": "markdown",
   "metadata": {},
   "source": [
    "### Lets group our reviews by brand see what is mean rating for a given brand"
   ]
  },
  {
   "cell_type": "code",
   "execution_count": null,
   "metadata": {},
   "outputs": [],
   "source": [
    "ratings = items.groupby('brand').mean()['rating'].sort_values()\n",
    "label = list(ratings.index)\n",
    "plt.figure(figsize=(15,8))\n",
    "plt.rcParams['text.color'] = 'w'\n",
    "plt.rcParams['lines.linewidth'] = 2\n",
    "plt.rcParams['font.size']  = 20\n",
    "plt.title('Mean review points per brand')\n",
    "plt.barh(label,ratings,height=0.5)\n",
    "plt.show()"
   ]
  },
  {
   "cell_type": "markdown",
   "metadata": {},
   "source": [
    "### Lets plot a bar chart to understand our data and see wether we have enough data for each rating values"
   ]
  },
  {
   "cell_type": "markdown",
   "metadata": {},
   "source": [
    "<style>\n",
    "td {\n",
    "  font-size: 100px\n",
    "    Lets plot a bar chart to understand our data and see wether we have enough data for each rating values\n",
    "}\n",
    "</style>\n"
   ]
  },
  {
   "cell_type": "code",
   "execution_count": null,
   "metadata": {},
   "outputs": [],
   "source": [
    "rating_group = reviews.groupby('rating').count()\n",
    "plt.figure(figsize=(15,8))\n",
    "plt.xlabel('ratings')\n",
    "plt.ylabel('Number of instances')\n",
    "plt.bar(rating_group.index,rating_group.asin,width=0.5)"
   ]
  },
  {
   "cell_type": "markdown",
   "metadata": {},
   "source": [
    "### PLoting the number of reviews activity"
   ]
  },
  {
   "cell_type": "code",
   "execution_count": null,
   "metadata": {},
   "outputs": [],
   "source": [
    "activity = final_data.groupby('date').count()['asin']\n",
    "dates = activity.index\n",
    "plt.figure(figsize=(15,5))\n",
    "plt.xlabel('Date')\n",
    "plt.ylabel('number of reviews')\n",
    "plt.title('Date vs Number of reviews')\n",
    "plt.bar(dates,activity,width=0.2,align='center',color='r')"
   ]
  },
  {
   "cell_type": "markdown",
   "metadata": {},
   "source": [
    "### We want out data to have same amount of positive and negitive sentiment otherwise our model will be bias so lets see percentage of positve and negitive sentiment in our data "
   ]
  },
  {
   "cell_type": "code",
   "execution_count": null,
   "metadata": {},
   "outputs": [],
   "source": [
    "#example if your model have 75% positive data and 25% negitive data then our model will figur out if it predicts potive everytime it will be right 3 times for every 4 instances an dit will be very dificult\n",
    "#for our model to learn and genralise the data"
   ]
  },
  {
   "cell_type": "code",
   "execution_count": null,
   "metadata": {},
   "outputs": [],
   "source": [
    "sent_count = data.groupby('sentiment').count()\n",
    "neg_per = sent_count.review[0]*100/sent_count.review.sum()\n",
    "pos_per = sent_count.review[1]*100/sent_count.review.sum()\n",
    "plt.figure(figsize=(10,8))\n",
    "plt.annotate(neg_per,(0,30))\n",
    "plt.bar(['negitive','postive'],[neg_per,pos_per],width=0.2)"
   ]
  },
  {
   "cell_type": "code",
   "execution_count": null,
   "metadata": {},
   "outputs": [],
   "source": [
    "# as we can see there is huge diffrence in positive and negitive sentiment this will lead to many false positive results \n",
    "#possible solutions 1) droping some postive values 2)collect more data"
   ]
  },
  {
   "cell_type": "code",
   "execution_count": null,
   "metadata": {},
   "outputs": [],
   "source": [
    "pos = data.loc[data.sentiment==1]\n",
    "neg= data.loc[data.sentiment==0]"
   ]
  },
  {
   "cell_type": "code",
   "execution_count": null,
   "metadata": {},
   "outputs": [],
   "source": [
    "pos.shape,neg.shape"
   ]
  },
  {
   "cell_type": "code",
   "execution_count": null,
   "metadata": {},
   "outputs": [],
   "source": [
    "df = pd.concat([pos[:16000],neg[:16000]]) #lets only take 16k instance of both positive and negitive label"
   ]
  },
  {
   "cell_type": "code",
   "execution_count": null,
   "metadata": {},
   "outputs": [],
   "source": [
    "df"
   ]
  },
  {
   "cell_type": "markdown",
   "metadata": {},
   "source": [
    "## Features and target genration and text cleaning"
   ]
  },
  {
   "cell_type": "code",
   "execution_count": null,
   "metadata": {},
   "outputs": [],
   "source": [
    "def data_genrator(df):\n",
    "    ps = PorterStemmer()\n",
    "    y = df.sentiment #target   \n",
    "    words = []\n",
    "    for i in range (0,len(df)):\n",
    "        X = df.review.iloc[i]\n",
    "        X = re.sub('[^a-zA-Z]',' ',X)\n",
    "        X = X.lower()\n",
    "        X = X.split()\n",
    "        X = [ps.stem(w) for w in X if not w in stopwords.words('english')]\n",
    "        X = ' '.join(X)\n",
    "        words.append(X)\n",
    "    return words,y"
   ]
  },
  {
   "cell_type": "code",
   "execution_count": null,
   "metadata": {},
   "outputs": [],
   "source": [
    "X,y = data_genrator(df)"
   ]
  },
  {
   "cell_type": "code",
   "execution_count": null,
   "metadata": {},
   "outputs": [],
   "source": [
    "vect = CountVectorizer(max_features=5000,max_df=0.75)#max_df=0.7 will skip featuers that are repeated in 75% of the instances \n",
    "#choosing only 5000 featuers because data has around 30k featuers this will lead to curse of dimensionality"
   ]
  },
  {
   "cell_type": "code",
   "execution_count": null,
   "metadata": {},
   "outputs": [],
   "source": [
    "X = vect.fit_transform(X).toarray()"
   ]
  },
  {
   "cell_type": "code",
   "execution_count": null,
   "metadata": {},
   "outputs": [],
   "source": [
    "X.shape"
   ]
  },
  {
   "cell_type": "code",
   "execution_count": null,
   "metadata": {},
   "outputs": [],
   "source": [
    "y = np.array(y)\n",
    "X = np.array(X)"
   ]
  },
  {
   "cell_type": "code",
   "execution_count": null,
   "metadata": {},
   "outputs": [],
   "source": [
    "X"
   ]
  },
  {
   "cell_type": "markdown",
   "metadata": {},
   "source": [
    "## train and test datasets creation"
   ]
  },
  {
   "cell_type": "code",
   "execution_count": null,
   "metadata": {},
   "outputs": [],
   "source": [
    "# i am choosing only 32000 instances from the data and creating train set, dev set and test set\n",
    "# it is important to make sure thatr every set have equal number of both positive reviews mand negitive reviews to make sure that our model is not bias"
   ]
  },
  {
   "cell_type": "code",
   "execution_count": null,
   "metadata": {},
   "outputs": [],
   "source": [
    "train_size_index = 12000\n",
    "dev_size_index = 14000 \n",
    "test_size_index = 16000\n",
    "X_pos,X_neg = X[:16000],X[16000:]\n",
    "y_pos,y_neg = y[:16000],y[16000:]\n",
    "X_train = np.concatenate((X_pos[:train_size_index],X_neg[:train_size_index]))\n",
    "X_dev = np.concatenate((X_pos[train_size_index:dev_size_index],X_neg[train_size_index:dev_size_index]))\n",
    "X_test = np.concatenate((X_pos[dev_size_index:],X_neg[dev_size_index:]))\n",
    "\n",
    "y_train = np.concatenate((y_pos[:train_size_index],y_neg[:train_size_index]))\n",
    "y_dev = np.concatenate((y_pos[train_size_index:dev_size_index],y_neg[train_size_index:dev_size_index]))\n",
    "y_test = np.concatenate((y_pos[dev_size_index:],y_neg[dev_size_index:]))"
   ]
  },
  {
   "cell_type": "code",
   "execution_count": null,
   "metadata": {},
   "outputs": [],
   "source": [
    "X_train.shape,X_dev.shape,X_test.shape"
   ]
  },
  {
   "cell_type": "code",
   "execution_count": null,
   "metadata": {},
   "outputs": [],
   "source": [
    "train_data = list(zip(X_train,y_train))\n",
    "random.shuffle(train_data)\n",
    "X_train,y_train = zip(*train_data)\n",
    "X_train = np.array(X_train)\n",
    "y_train = np.array(y_train)"
   ]
  },
  {
   "cell_type": "code",
   "execution_count": null,
   "metadata": {},
   "outputs": [],
   "source": [
    "dev_data = list(zip(X_dev,y_dev))\n",
    "random.shuffle(test_data)\n",
    "X_dev,y_dev = zip(*dev_data)\n",
    "X_dev = np.array(X_dev)\n",
    "y_dev = np.array(y_dev)"
   ]
  },
  {
   "cell_type": "code",
   "execution_count": null,
   "metadata": {},
   "outputs": [],
   "source": [
    "test_data = list(zip(X_test,y_test))\n",
    "random.shuffle(test_data)\n",
    "X_test,y_test = zip(*test_data)\n",
    "X_test = np.array(X_test)\n",
    "y_test = np.array(y_test)"
   ]
  },
  {
   "cell_type": "code",
   "execution_count": null,
   "metadata": {},
   "outputs": [],
   "source": [
    "with open('X_train.pickle', 'wb') as f:\n",
    "    pickle.dump(X_train, f, protocol=pickle.HIGHEST_PROTOCOL)\n",
    "with open('y_train.pickle', 'wb') as f:\n",
    "    pickle.dump(y_train, f, protocol=pickle.HIGHEST_PROTOCOL)\n",
    "    \n",
    "with open('X_dev.pickle', 'wb') as f:\n",
    "    pickle.dump(X_dev, f, protocol=pickle.HIGHEST_PROTOCOL)\n",
    "with open('y_dev.pickle', 'wb') as f:\n",
    "    pickle.dump(y_dev, f, protocol=pickle.HIGHEST_PROTOCOL)\n",
    "    \n",
    "with open('X_test.pickle', 'wb') as f:\n",
    "    pickle.dump(X_test, f, protocol=pickle.HIGHEST_PROTOCOL)\n",
    "with open('y_test.pickle', 'wb') as f:\n",
    "    pickle.dump(y_test, f, protocol=pickle.HIGHEST_PROTOCOL)"
   ]
  },
  {
   "cell_type": "code",
   "execution_count": 3,
   "metadata": {},
   "outputs": [],
   "source": [
    "X_train = pickle.load(open('X_train.pickle','rb'))\n",
    "y_train = pickle.load(open('y_train.pickle','rb'))\n",
    "X_dev = pickle.load(open('X_dev.pickle','rb'))\n",
    "y_dev = pickle.load(open('y_dev.pickle','rb'))\n",
    "X_test = pickle.load(open('X_test.pickle','rb'))\n",
    "y_test = pickle.load(open('y_test.pickle','rb'))"
   ]
  },
  {
   "cell_type": "code",
   "execution_count": 41,
   "metadata": {},
   "outputs": [],
   "source": [
    "model = Sequential()"
   ]
  },
  {
   "cell_type": "code",
   "execution_count": 42,
   "metadata": {},
   "outputs": [],
   "source": [
    "model.add(Dense(5000,activation='relu'))"
   ]
  },
  {
   "cell_type": "code",
   "execution_count": 43,
   "metadata": {},
   "outputs": [],
   "source": [
    "model.add(Dropout(0.25))"
   ]
  },
  {
   "cell_type": "code",
   "execution_count": 44,
   "metadata": {},
   "outputs": [],
   "source": [
    "model.add(Dense(128,activation='relu'))"
   ]
  },
  {
   "cell_type": "code",
   "execution_count": 45,
   "metadata": {},
   "outputs": [],
   "source": [
    "model.add(Dense(1,activation='sigmoid'))"
   ]
  },
  {
   "cell_type": "code",
   "execution_count": 46,
   "metadata": {},
   "outputs": [],
   "source": [
    "adm = tf.keras.optimizers.Adam(lr=1e-6,decay=1e-6) #defining learning rate and decay for better control"
   ]
  },
  {
   "cell_type": "code",
   "execution_count": 47,
   "metadata": {},
   "outputs": [],
   "source": [
    "model.compile(loss = 'binary_crossentropy',metrics = ['accuracy'],optimizer = adm)"
   ]
  },
  {
   "cell_type": "code",
   "execution_count": 48,
   "metadata": {},
   "outputs": [
    {
     "name": "stdout",
     "output_type": "stream",
     "text": [
      "The tensorboard extension is already loaded. To reload it, use:\n",
      "  %reload_ext tensorboard\n"
     ]
    }
   ],
   "source": [
    "%load_ext tensorboard\n",
    "logdir=\"logs\\\\fit\\\\\" + datetime.datetime.now().strftime(\"%Y%m%d-%H%M%S\")\n",
    "tensorboard_callback = tf.keras.callbacks.TensorBoard(log_dir=logdir)\n",
    "#callback for tensorbord"
   ]
  },
  {
   "cell_type": "code",
   "execution_count": 49,
   "metadata": {},
   "outputs": [],
   "source": [
    "loss_moniter = tf.keras.callbacks.EarlyStopping(monitor='val_loss', min_delta=0.0001, patience=5, verbose=1, mode='auto',baseline=None, restore_best_weights=False)\n",
    "#this callback will moniter the validation loss and stops the epoch when there is no improvement greter than min_delta for patiience number of epoch"
   ]
  },
  {
   "cell_type": "code",
   "execution_count": null,
   "metadata": {},
   "outputs": [
    {
     "name": "stdout",
     "output_type": "stream",
     "text": [
      "Train on 24000 samples, validate on 4000 samples\n",
      "Epoch 1/200\n",
      "24000/24000 [==============================] - 7s 301us/sample - loss: 0.6871 - accuracy: 0.5681 - val_loss: 0.6773 - val_accuracy: 0.7015\n",
      "Epoch 2/200\n",
      "24000/24000 [==============================] - 7s 282us/sample - loss: 0.6681 - accuracy: 0.7301 - val_loss: 0.6609 - val_accuracy: 0.7903\n",
      "Epoch 3/200\n",
      "24000/24000 [==============================] - 7s 284us/sample - loss: 0.6483 - accuracy: 0.8004 - val_loss: 0.6422 - val_accuracy: 0.8195\n",
      "Epoch 4/200\n",
      "24000/24000 [==============================] - 7s 284us/sample - loss: 0.6269 - accuracy: 0.8292 - val_loss: 0.6225 - val_accuracy: 0.8375\n",
      "Epoch 5/200\n",
      "24000/24000 [==============================] - 7s 283us/sample - loss: 0.6042 - accuracy: 0.8488 - val_loss: 0.6025 - val_accuracy: 0.8505\n",
      "Epoch 6/200\n",
      "24000/24000 [==============================] - 7s 283us/sample - loss: 0.5816 - accuracy: 0.8616 - val_loss: 0.5818 - val_accuracy: 0.8590\n",
      "Epoch 7/200\n",
      "24000/24000 [==============================] - 7s 281us/sample - loss: 0.5591 - accuracy: 0.8718 - val_loss: 0.5612 - val_accuracy: 0.8652\n",
      "Epoch 8/200\n",
      "24000/24000 [==============================] - 7s 284us/sample - loss: 0.5374 - accuracy: 0.8774 - val_loss: 0.5424 - val_accuracy: 0.8730\n",
      "Epoch 9/200\n",
      "24000/24000 [==============================] - 7s 284us/sample - loss: 0.5170 - accuracy: 0.8839 - val_loss: 0.5239 - val_accuracy: 0.8798\n",
      "Epoch 10/200\n",
      "24000/24000 [==============================] - 7s 283us/sample - loss: 0.4975 - accuracy: 0.8873 - val_loss: 0.5059 - val_accuracy: 0.8823\n",
      "Epoch 11/200\n",
      "24000/24000 [==============================] - 7s 282us/sample - loss: 0.4794 - accuracy: 0.8915 - val_loss: 0.4892 - val_accuracy: 0.8840\n",
      "Epoch 12/200\n",
      "24000/24000 [==============================] - 7s 285us/sample - loss: 0.4613 - accuracy: 0.8949 - val_loss: 0.4741 - val_accuracy: 0.8870\n",
      "Epoch 13/200\n",
      "24000/24000 [==============================] - 7s 283us/sample - loss: 0.4452 - accuracy: 0.8988 - val_loss: 0.4588 - val_accuracy: 0.8900\n",
      "Epoch 14/200\n",
      "24000/24000 [==============================] - 7s 284us/sample - loss: 0.4300 - accuracy: 0.8993 - val_loss: 0.4448 - val_accuracy: 0.8915\n",
      "Epoch 15/200\n",
      "24000/24000 [==============================] - 7s 283us/sample - loss: 0.4160 - accuracy: 0.9013 - val_loss: 0.4318 - val_accuracy: 0.8925\n",
      "Epoch 16/200\n",
      "24000/24000 [==============================] - 7s 282us/sample - loss: 0.4025 - accuracy: 0.9028 - val_loss: 0.4196 - val_accuracy: 0.8950\n",
      "Epoch 17/200\n",
      "24000/24000 [==============================] - 7s 283us/sample - loss: 0.3897 - accuracy: 0.9058 - val_loss: 0.4082 - val_accuracy: 0.8970\n",
      "Epoch 18/200\n",
      "24000/24000 [==============================] - 7s 286us/sample - loss: 0.3778 - accuracy: 0.9065 - val_loss: 0.3973 - val_accuracy: 0.8980\n",
      "Epoch 19/200\n",
      "24000/24000 [==============================] - 7s 310us/sample - loss: 0.3667 - accuracy: 0.9076 - val_loss: 0.3871 - val_accuracy: 0.9005\n",
      "Epoch 20/200\n",
      "24000/24000 [==============================] - 7s 301us/sample - loss: 0.3563 - accuracy: 0.9092 - val_loss: 0.3781 - val_accuracy: 0.9007\n",
      "Epoch 21/200\n",
      "24000/24000 [==============================] - 7s 302us/sample - loss: 0.3470 - accuracy: 0.9089 - val_loss: 0.3692 - val_accuracy: 0.9025\n",
      "Epoch 22/200\n",
      "24000/24000 [==============================] - 7s 304us/sample - loss: 0.3378 - accuracy: 0.9125 - val_loss: 0.3611 - val_accuracy: 0.9035\n",
      "Epoch 23/200\n",
      "24000/24000 [==============================] - 7s 290us/sample - loss: 0.3292 - accuracy: 0.9133 - val_loss: 0.3536 - val_accuracy: 0.9047\n",
      "Epoch 24/200\n",
      "24000/24000 [==============================] - 7s 296us/sample - loss: 0.3210 - accuracy: 0.9142 - val_loss: 0.3466 - val_accuracy: 0.9062\n",
      "Epoch 25/200\n",
      "24000/24000 [==============================] - 7s 298us/sample - loss: 0.3129 - accuracy: 0.9150 - val_loss: 0.3402 - val_accuracy: 0.9057\n",
      "Epoch 26/200\n",
      "24000/24000 [==============================] - 7s 292us/sample - loss: 0.3060 - accuracy: 0.9168 - val_loss: 0.3342 - val_accuracy: 0.9068\n",
      "Epoch 27/200\n",
      "24000/24000 [==============================] - 7s 278us/sample - loss: 0.2991 - accuracy: 0.9180 - val_loss: 0.3286 - val_accuracy: 0.9075\n",
      "Epoch 28/200\n",
      "24000/24000 [==============================] - 7s 284us/sample - loss: 0.2933 - accuracy: 0.9180 - val_loss: 0.3233 - val_accuracy: 0.9082\n",
      "Epoch 29/200\n",
      "24000/24000 [==============================] - 7s 287us/sample - loss: 0.2870 - accuracy: 0.9189 - val_loss: 0.3183 - val_accuracy: 0.9082\n",
      "Epoch 30/200\n",
      "24000/24000 [==============================] - 7s 286us/sample - loss: 0.2808 - accuracy: 0.9195 - val_loss: 0.3138 - val_accuracy: 0.9087\n",
      "Epoch 31/200\n",
      "24000/24000 [==============================] - 7s 292us/sample - loss: 0.2753 - accuracy: 0.9220 - val_loss: 0.3096 - val_accuracy: 0.9085\n",
      "Epoch 32/200\n",
      "24000/24000 [==============================] - 7s 283us/sample - loss: 0.2705 - accuracy: 0.9220 - val_loss: 0.3055 - val_accuracy: 0.9090\n",
      "Epoch 33/200\n",
      "24000/24000 [==============================] - 7s 280us/sample - loss: 0.2656 - accuracy: 0.9232 - val_loss: 0.3017 - val_accuracy: 0.9097\n",
      "Epoch 34/200\n",
      "24000/24000 [==============================] - 7s 279us/sample - loss: 0.2607 - accuracy: 0.9235 - val_loss: 0.2982 - val_accuracy: 0.9090\n",
      "Epoch 35/200\n",
      "24000/24000 [==============================] - 7s 276us/sample - loss: 0.2564 - accuracy: 0.9247 - val_loss: 0.2949 - val_accuracy: 0.9087\n",
      "Epoch 36/200\n",
      "24000/24000 [==============================] - 7s 274us/sample - loss: 0.2519 - accuracy: 0.9261 - val_loss: 0.2918 - val_accuracy: 0.9093\n",
      "Epoch 37/200\n",
      "24000/24000 [==============================] - 7s 274us/sample - loss: 0.2480 - accuracy: 0.9246 - val_loss: 0.2889 - val_accuracy: 0.9097\n",
      "Epoch 38/200\n",
      "24000/24000 [==============================] - 7s 275us/sample - loss: 0.2440 - accuracy: 0.9267 - val_loss: 0.2863 - val_accuracy: 0.9100\n",
      "Epoch 39/200\n",
      "24000/24000 [==============================] - 7s 276us/sample - loss: 0.2403 - accuracy: 0.9285 - val_loss: 0.2837 - val_accuracy: 0.9105\n",
      "Epoch 40/200\n",
      "24000/24000 [==============================] - 7s 276us/sample - loss: 0.2367 - accuracy: 0.9280 - val_loss: 0.2813 - val_accuracy: 0.9100\n",
      "Epoch 41/200\n",
      "24000/24000 [==============================] - 7s 276us/sample - loss: 0.2327 - accuracy: 0.9287 - val_loss: 0.2792 - val_accuracy: 0.9107\n",
      "Epoch 42/200\n",
      "24000/24000 [==============================] - 7s 277us/sample - loss: 0.2295 - accuracy: 0.9302 - val_loss: 0.2771 - val_accuracy: 0.9103\n",
      "Epoch 43/200\n",
      "24000/24000 [==============================] - 7s 275us/sample - loss: 0.2266 - accuracy: 0.9305 - val_loss: 0.2752 - val_accuracy: 0.9095\n",
      "Epoch 44/200\n",
      "24000/24000 [==============================] - 7s 274us/sample - loss: 0.2238 - accuracy: 0.9309 - val_loss: 0.2732 - val_accuracy: 0.9090\n",
      "Epoch 45/200\n",
      "24000/24000 [==============================] - 7s 277us/sample - loss: 0.2201 - accuracy: 0.9318 - val_loss: 0.2715 - val_accuracy: 0.9097\n",
      "Epoch 46/200\n",
      "24000/24000 [==============================] - 7s 274us/sample - loss: 0.2174 - accuracy: 0.9334 - val_loss: 0.2698 - val_accuracy: 0.9097\n",
      "Epoch 47/200\n",
      "24000/24000 [==============================] - 7s 275us/sample - loss: 0.2144 - accuracy: 0.9335 - val_loss: 0.2682 - val_accuracy: 0.9112\n",
      "Epoch 48/200\n",
      "24000/24000 [==============================] - 7s 274us/sample - loss: 0.2121 - accuracy: 0.9342 - val_loss: 0.2668 - val_accuracy: 0.9115\n",
      "Epoch 49/200\n",
      "24000/24000 [==============================] - 7s 273us/sample - loss: 0.2095 - accuracy: 0.9335 - val_loss: 0.2656 - val_accuracy: 0.9118\n",
      "Epoch 50/200\n",
      "24000/24000 [==============================] - 7s 283us/sample - loss: 0.2062 - accuracy: 0.9359 - val_loss: 0.2644 - val_accuracy: 0.9110\n",
      "Epoch 51/200\n",
      "24000/24000 [==============================] - 7s 299us/sample - loss: 0.2048 - accuracy: 0.9352 - val_loss: 0.2630 - val_accuracy: 0.9115\n",
      "Epoch 52/200\n",
      "24000/24000 [==============================] - 7s 299us/sample - loss: 0.2021 - accuracy: 0.9360 - val_loss: 0.2620 - val_accuracy: 0.9110\n",
      "Epoch 53/200\n",
      "24000/24000 [==============================] - 7s 285us/sample - loss: 0.1995 - accuracy: 0.9373 - val_loss: 0.2609 - val_accuracy: 0.9112\n",
      "Epoch 54/200\n",
      "24000/24000 [==============================] - 7s 284us/sample - loss: 0.1972 - accuracy: 0.9375 - val_loss: 0.2600 - val_accuracy: 0.9107\n",
      "Epoch 55/200\n",
      "24000/24000 [==============================] - 7s 285us/sample - loss: 0.1951 - accuracy: 0.9381 - val_loss: 0.2589 - val_accuracy: 0.9115\n",
      "Epoch 56/200\n",
      "24000/24000 [==============================] - 7s 287us/sample - loss: 0.1930 - accuracy: 0.9378 - val_loss: 0.2580 - val_accuracy: 0.9120\n",
      "Epoch 57/200\n",
      "24000/24000 [==============================] - 7s 285us/sample - loss: 0.1912 - accuracy: 0.9390 - val_loss: 0.2572 - val_accuracy: 0.9115\n",
      "Epoch 58/200\n",
      "24000/24000 [==============================] - 7s 288us/sample - loss: 0.1890 - accuracy: 0.9392 - val_loss: 0.2565 - val_accuracy: 0.9115\n",
      "Epoch 59/200\n",
      "24000/24000 [==============================] - 7s 294us/sample - loss: 0.1867 - accuracy: 0.9396 - val_loss: 0.2556 - val_accuracy: 0.9115\n",
      "Epoch 60/200\n",
      "24000/24000 [==============================] - 7s 277us/sample - loss: 0.1851 - accuracy: 0.9410 - val_loss: 0.2548 - val_accuracy: 0.9122\n",
      "Epoch 61/200\n",
      "24000/24000 [==============================] - 7s 279us/sample - loss: 0.1841 - accuracy: 0.9407 - val_loss: 0.2543 - val_accuracy: 0.9118\n",
      "Epoch 62/200\n",
      "24000/24000 [==============================] - 7s 287us/sample - loss: 0.1815 - accuracy: 0.9423 - val_loss: 0.2534 - val_accuracy: 0.9125\n",
      "Epoch 63/200\n",
      "24000/24000 [==============================] - 7s 292us/sample - loss: 0.1796 - accuracy: 0.9420 - val_loss: 0.2527 - val_accuracy: 0.9125\n",
      "Epoch 64/200\n",
      "24000/24000 [==============================] - 7s 289us/sample - loss: 0.1778 - accuracy: 0.9430 - val_loss: 0.2524 - val_accuracy: 0.9125\n",
      "Epoch 65/200\n",
      "24000/24000 [==============================] - 7s 290us/sample - loss: 0.1759 - accuracy: 0.9433 - val_loss: 0.2516 - val_accuracy: 0.9120\n",
      "Epoch 66/200\n",
      "24000/24000 [==============================] - 7s 284us/sample - loss: 0.1746 - accuracy: 0.9431 - val_loss: 0.2511 - val_accuracy: 0.9118\n",
      "Epoch 67/200\n",
      "24000/24000 [==============================] - 7s 280us/sample - loss: 0.1727 - accuracy: 0.9444 - val_loss: 0.2508 - val_accuracy: 0.9125\n",
      "Epoch 68/200\n",
      "24000/24000 [==============================] - 7s 283us/sample - loss: 0.1708 - accuracy: 0.9438 - val_loss: 0.2502 - val_accuracy: 0.9118\n",
      "Epoch 69/200\n",
      "24000/24000 [==============================] - 7s 285us/sample - loss: 0.1693 - accuracy: 0.9452 - val_loss: 0.2498 - val_accuracy: 0.9122\n",
      "Epoch 70/200\n",
      "24000/24000 [==============================] - 7s 284us/sample - loss: 0.1681 - accuracy: 0.9449 - val_loss: 0.2496 - val_accuracy: 0.9125\n",
      "Epoch 71/200\n",
      "24000/24000 [==============================] - 7s 281us/sample - loss: 0.1666 - accuracy: 0.9455 - val_loss: 0.2488 - val_accuracy: 0.9118\n",
      "Epoch 72/200\n",
      "24000/24000 [==============================] - 7s 282us/sample - loss: 0.1649 - accuracy: 0.9461 - val_loss: 0.2484 - val_accuracy: 0.9122\n",
      "Epoch 73/200\n",
      "24000/24000 [==============================] - 7s 282us/sample - loss: 0.1632 - accuracy: 0.9475 - val_loss: 0.2483 - val_accuracy: 0.9120\n",
      "Epoch 74/200\n",
      "24000/24000 [==============================] - 7s 284us/sample - loss: 0.1614 - accuracy: 0.9477 - val_loss: 0.2479 - val_accuracy: 0.9118\n",
      "Epoch 75/200\n",
      "24000/24000 [==============================] - 7s 277us/sample - loss: 0.1601 - accuracy: 0.9490 - val_loss: 0.2474 - val_accuracy: 0.9115\n",
      "Epoch 76/200\n",
      "24000/24000 [==============================] - 7s 275us/sample - loss: 0.1592 - accuracy: 0.9489 - val_loss: 0.2470 - val_accuracy: 0.9128\n",
      "Epoch 77/200\n",
      "24000/24000 [==============================] - 7s 280us/sample - loss: 0.1580 - accuracy: 0.9481 - val_loss: 0.2470 - val_accuracy: 0.9112\n",
      "Epoch 78/200\n",
      "24000/24000 [==============================] - 7s 281us/sample - loss: 0.1561 - accuracy: 0.9492 - val_loss: 0.2466 - val_accuracy: 0.9125\n",
      "Epoch 79/200\n",
      "24000/24000 [==============================] - 7s 278us/sample - loss: 0.1547 - accuracy: 0.9492 - val_loss: 0.2464 - val_accuracy: 0.9120\n",
      "Epoch 80/200\n",
      "24000/24000 [==============================] - 7s 281us/sample - loss: 0.1529 - accuracy: 0.9503 - val_loss: 0.2461 - val_accuracy: 0.9130\n",
      "Epoch 81/200\n",
      "24000/24000 [==============================] - 7s 279us/sample - loss: 0.1524 - accuracy: 0.9500 - val_loss: 0.2460 - val_accuracy: 0.9120\n",
      "Epoch 82/200\n",
      "24000/24000 [==============================] - 7s 278us/sample - loss: 0.1507 - accuracy: 0.9507 - val_loss: 0.2459 - val_accuracy: 0.9128\n",
      "Epoch 83/200\n",
      "24000/24000 [==============================] - 7s 278us/sample - loss: 0.1489 - accuracy: 0.9517 - val_loss: 0.2455 - val_accuracy: 0.9125\n",
      "Epoch 84/200\n",
      "24000/24000 [==============================] - 7s 278us/sample - loss: 0.1484 - accuracy: 0.9518 - val_loss: 0.2453 - val_accuracy: 0.9133\n",
      "Epoch 85/200\n",
      "24000/24000 [==============================] - 7s 278us/sample - loss: 0.1460 - accuracy: 0.9526 - val_loss: 0.2455 - val_accuracy: 0.9128\n",
      "Epoch 86/200\n",
      "24000/24000 [==============================] - 7s 277us/sample - loss: 0.1454 - accuracy: 0.9532 - val_loss: 0.2455 - val_accuracy: 0.9130\n",
      "Epoch 87/200\n",
      "24000/24000 [==============================] - 7s 276us/sample - loss: 0.1439 - accuracy: 0.9527 - val_loss: 0.2449 - val_accuracy: 0.9125\n",
      "Epoch 88/200\n",
      "24000/24000 [==============================] - 7s 277us/sample - loss: 0.1426 - accuracy: 0.9536 - val_loss: 0.2450 - val_accuracy: 0.9125\n",
      "Epoch 89/200\n",
      "24000/24000 [==============================] - 7s 276us/sample - loss: 0.1419 - accuracy: 0.9535 - val_loss: 0.2449 - val_accuracy: 0.9128\n",
      "Epoch 90/200\n",
      "24000/24000 [==============================] - 7s 277us/sample - loss: 0.1410 - accuracy: 0.9540 - val_loss: 0.2447 - val_accuracy: 0.9130\n",
      "Epoch 91/200\n",
      "24000/24000 [==============================] - 7s 276us/sample - loss: 0.1395 - accuracy: 0.9544 - val_loss: 0.2449 - val_accuracy: 0.9130\n",
      "Epoch 92/200\n",
      "24000/24000 [==============================] - 7s 275us/sample - loss: 0.1386 - accuracy: 0.9554 - val_loss: 0.2448 - val_accuracy: 0.9133\n",
      "Epoch 93/200\n",
      "19072/24000 [======================>.......] - ETA: 1s - loss: 0.1365 - accuracy: 0.9558"
     ]
    }
   ],
   "source": [
    "history = model.fit(X_train,y_train,epochs=200,batch_size=64,validation_data=(X_dev,y_dev),callbacks=[loss_moniter])"
   ]
  },
  {
   "cell_type": "code",
   "execution_count": null,
   "metadata": {},
   "outputs": [],
   "source": [
    "model.save('model.h5')"
   ]
  },
  {
   "cell_type": "code",
   "execution_count": 5,
   "metadata": {},
   "outputs": [
    {
     "name": "stdout",
     "output_type": "stream",
     "text": [
      "WARNING:tensorflow:Sequential models without an `input_shape` passed to the first layer cannot reload their optimizer state. As a result, your model isstarting with a freshly initialized optimizer.\n"
     ]
    }
   ],
   "source": [
    "model = tf.keras.models.load_model('model.h5')"
   ]
  },
  {
   "cell_type": "code",
   "execution_count": 31,
   "metadata": {},
   "outputs": [
    {
     "data": {
      "image/png": "[encoded data removed]",
      "text/plain": [
       "<Figure size 1080x720 with 1 Axes>"
      ]
     },
     "metadata": {
      "needs_background": "light"
     },
     "output_type": "display_data"
    }
   ],
   "source": [
    "plt.figure(figsize=(15,10))\n",
    "plt.plot(history.history['loss'])\n",
    "plt.plot(history.history['val_loss'])\n",
    "plt.legend(['Train_loss','Validation_loss'])\n",
    "plt.rcParams['text.color'] = 'b'"
   ]
  },
  {
   "cell_type": "code",
   "execution_count": 32,
   "metadata": {},
   "outputs": [
    {
     "data": {
      "image/png": "[encoded data removed]",
      "text/plain": [
       "<Figure size 1080x720 with 1 Axes>"
      ]
     },
     "metadata": {
      "needs_background": "light"
     },
     "output_type": "display_data"
    }
   ],
   "source": [
    "plt.figure(figsize=(15,10))\n",
    "plt.plot(history.history['accuracy'])\n",
    "plt.plot(history.history['val_accuracy'])\n",
    "plt.legend(['Train_acc','Validation_acc'])\n",
    "plt.rcParams['text.color'] = 'b'"
   ]
  },
  {
   "cell_type": "code",
   "execution_count": null,
   "metadata": {},
   "outputs": [],
   "source": []
  },
  {
   "cell_type": "code",
   "execution_count": 33,
   "metadata": {},
   "outputs": [],
   "source": [
    "y_pred = model.predict_classes(X_test)"
   ]
  },
  {
   "cell_type": "code",
   "execution_count": 34,
   "metadata": {},
   "outputs": [],
   "source": [
    "cm = confusion_matrix(y_test,y_pred)"
   ]
  },
  {
   "cell_type": "code",
   "execution_count": 35,
   "metadata": {},
   "outputs": [
    {
     "data": {
      "text/plain": [
       "<matplotlib.axes._subplots.AxesSubplot at 0x2bf24678cf8>"
      ]
     },
     "execution_count": 35,
     "metadata": {},
     "output_type": "execute_result"
    },
    {
     "data": {
      "image/png": "[encoded data removed]",
      "text/plain": [
       "<Figure size 432x288 with 2 Axes>"
      ]
     },
     "metadata": {
      "needs_background": "light"
     },
     "output_type": "display_data"
    }
   ],
   "source": [
    "sns.heatmap(cm,annot=True,linewidths=10)"
   ]
  },
  {
   "cell_type": "code",
   "execution_count": 36,
   "metadata": {},
   "outputs": [],
   "source": [
    "fpr,tpr,treshhold = roc_curve(y_test,y_pred)"
   ]
  },
  {
   "cell_type": "code",
   "execution_count": 37,
   "metadata": {},
   "outputs": [],
   "source": [
    "area = auc(fpr,tpr)"
   ]
  },
  {
   "cell_type": "code",
   "execution_count": 38,
   "metadata": {},
   "outputs": [
    {
     "data": {
      "text/plain": [
       "Text(0, 1, 'area under curve is 0.8895')"
      ]
     },
     "execution_count": 38,
     "metadata": {},
     "output_type": "execute_result"
    },
    {
     "data": {
      "image/png": "[encoded data removed]",
      "text/plain": [
       "<Figure size 720x576 with 1 Axes>"
      ]
     },
     "metadata": {
      "needs_background": "light"
     },
     "output_type": "display_data"
    }
   ],
   "source": [
    "plt.figure(figsize=(10,8))\n",
    "plt.plot(fpr,tpr)\n",
    "plt.xlabel('False_positive_rate')\n",
    "plt.ylabel('True_positve_rate')\n",
    "plt.rcParams['font.size'] = 15\n",
    "plt.annotate('area under curve is %s'%round(area,4),(0,1))"
   ]
  },
  {
   "cell_type": "code",
   "execution_count": null,
   "metadata": {},
   "outputs": [],
   "source": []
  }
 ],
 "metadata": {
  "kernelspec": {
   "display_name": "Python 3",
   "language": "python",
   "name": "python3"
  },
  "language_info": {
   "codemirror_mode": {
    "name": "ipython",
    "version": 3
   },
   "file_extension": ".py",
   "mimetype": "text/x-python",
   "name": "python",
   "nbconvert_exporter": "python",
   "pygments_lexer": "ipython3",
   "version": "3.6.10"
  }
 },
 "nbformat": 4,
 "nbformat_minor": 4
}
